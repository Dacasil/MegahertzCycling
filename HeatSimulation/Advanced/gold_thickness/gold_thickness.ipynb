{
 "cells": [
  {
   "cell_type": "code",
   "execution_count": 8,
   "metadata": {},
   "outputs": [],
   "source": [
    "import numpy as np\n",
    "import matplotlib.pyplot as plt\n",
    "import imageio.v2 as imageio\n",
    "from tqdm import tqdm\n",
    "import os\n",
    "from PIL import Image\n",
    "from matplotlib.colors import LinearSegmentedColormap"
   ]
  },
  {
   "cell_type": "code",
   "execution_count": 9,
   "metadata": {},
   "outputs": [],
   "source": [
    "###................Functions................###\n",
    "\n",
    "def calculateHeat(cellTemp, neighborTemps, gamma):\n",
    "    cellTemp = cellTemp + gamma*((neighborTemps[0] -2*cellTemp + neighborTemps[-1]) + (neighborTemps[1] -2*cellTemp + neighborTemps[-2]))\n",
    "    #print(cellTemp)\n",
    "    return np.float64(cellTemp)\n",
    "\n",
    "def heatTransfer(grid):\n",
    "    rows, cols = len(grid), len(grid[0])\n",
    "    for i in range(rows):\n",
    "        for j in range(cols):\n",
    "            neighbors = getNeighborsTemperature(grid[:,:,0], (i,j))\n",
    "            grid[:,:,0][i][j] = calculateHeat(grid[:,:,0][i][j], neighbors, grid[:,:,1][i][j])\n",
    "    return grid\n",
    "\n",
    "def calculateAverageTemperature(grid):\n",
    "    # Extract the temperature values from the grid\n",
    "    temperatures = grid[:, :, 0]\n",
    "\n",
    "    # Create a mask for the circle\n",
    "\n",
    "    # Calculate the average temperature within the circle\n",
    "    average_temperature = np.mean(temperatures)\n",
    "    \n",
    "    return average_temperature\n",
    "\n",
    "###...................................................Neumann boundary condition...................................................###\n",
    "def getNeighborsTemperature(grid, point):\n",
    "    neighbors = []\n",
    "    \n",
    "    rows = len(grid)\n",
    "    cols = len(grid[0])\n",
    "\n",
    "    for i in range(-1, 2):\n",
    "        for j in range(-1, 2):\n",
    "            try:\n",
    "                if abs(i) != abs(j):\n",
    "                    neighbor_temp = grid[point[0] + i][point[1] + j]\n",
    "                    neighbors.append(neighbor_temp)\n",
    "            except IndexError:\n",
    "                ###...Edge or corner point...###\n",
    "                # Upper edge point:\n",
    "                if point[0] == 0:\n",
    "                    # upper left corner point\n",
    "                    if point[1] == 0:\n",
    "                        if i==-1 and j==0:\n",
    "                            boundary_temp = grid[point[0] + 1][point[1]] # i!=0\n",
    "                            neighbors.append(boundary_temp)\n",
    "                        elif i==0 and j==1:\n",
    "                            boundary_temp = grid[point[0]][point[1]-1] # j!=0\n",
    "                            neighbors.append(boundary_temp)\n",
    "                    # upper right corner point\n",
    "                    elif point[1] == cols - 1:\n",
    "                        if i==1 and j==0:\n",
    "                            boundary_temp = grid[point[0]-1][point[1]] # i!=0\n",
    "                            neighbors.append(boundary_temp)\n",
    "                        elif i==0 and j==1:\n",
    "                            boundary_temp = grid[point[0]][point[1]-1] # j!=0\n",
    "                            neighbors.append(boundary_temp)\n",
    "                    # upper edge\n",
    "                    else:\n",
    "                        boundary_temp = grid[point[0]][point[1]-1]\n",
    "                        neighbors.append(boundary_temp)\n",
    "                \n",
    "                # lower edge point\n",
    "                elif point[0] == rows - 1:\n",
    "                    # Lower left corner\n",
    "                    if point[1] == 0:\n",
    "                        if i==-1 and j==0:\n",
    "                            boundary_temp = grid[point[0]+1][point[1]] # i!=0\n",
    "                            neighbors.append(boundary_temp)\n",
    "                        elif i==0 and j==-1:\n",
    "                            boundary_temp = grid[point[0]][point[1]+1] # j!=0\n",
    "                            neighbors.append(boundary_temp)\n",
    "                    \n",
    "                    # lower right corner\n",
    "                    elif point[1] == cols - 1:\n",
    "                        if i==1 and j==0:\n",
    "                            boundary_temp = grid[point[0]-1][point[1]] # i!=0\n",
    "                            neighbors.append(boundary_temp)\n",
    "                        elif i==0 and j==-1:\n",
    "                            boundary_temp = grid[point[0]][point[1]+1] # j!=0\n",
    "                            neighbors.append(boundary_temp)\n",
    "                    \n",
    "                    # lower edge\n",
    "                    else:\n",
    "                        boundary_temp = grid[point[0]][point[1]+1] # j!=0\n",
    "                        neighbors.append(boundary_temp)\n",
    "                \n",
    "                # left edge\n",
    "                elif point[1] == 0:\n",
    "                    boundary_temp = grid[point[0]+1][point[1]] # i!=0\n",
    "                    neighbors.append(boundary_temp)\n",
    "                \n",
    "                # right edge\n",
    "                elif point[1] == cols - 1:\n",
    "                    boundary_temp = grid[point[0]-1][point[1]] # i!=0\n",
    "                    neighbors.append(boundary_temp)\n",
    "\n",
    "    return neighbors\n",
    "\n",
    "def makeGif_single(frames,timeStep,minTemp,maxTemp, folder_name):\n",
    "        counter=0\n",
    "        images = []\n",
    "        for i in tqdm(range(0,len(frames))):\n",
    "                plt.figure()\n",
    "                plt.title(f\"Temperature at t = {counter*timeStep:.3f} unit time\")\n",
    "                plt.xlabel(\"x\")\n",
    "                plt.ylabel(\"y\")\n",
    "                plt.pcolormesh(frames[i], cmap = \"inferno\" , vmin = minTemp, vmax = maxTemp)\n",
    "                plt.colorbar()\n",
    "                plt.savefig(\"frames/\"+ folder_name+\"/\"+ str(counter)+ \".png\")\n",
    "                images.append(imageio.imread(\"frames/\"+ folder_name+\"/\"+ str(counter)+ \".png\"))\n",
    "                counter += 1\n",
    "                plt.close()\n",
    "\n",
    "        imageio.mimsave(folder_name + \".gif\", images)\n"
   ]
  },
  {
   "cell_type": "code",
   "execution_count": 13,
   "metadata": {},
   "outputs": [
    {
     "data": {
      "image/png": "[encoded data removed]",
      "text/plain": [
       "<Figure size 640x480 with 1 Axes>"
      ]
     },
     "metadata": {},
     "output_type": "display_data"
    },
    {
     "name": "stderr",
     "output_type": "stream",
     "text": [
      "100%|██████████| 1000/1000 [00:39<00:00, 25.43it/s]\n"
     ]
    },
    {
     "data": {
      "image/png": "[encoded data removed]",
      "text/plain": [
       "<Figure size 640x480 with 1 Axes>"
      ]
     },
     "metadata": {},
     "output_type": "display_data"
    },
    {
     "name": "stderr",
     "output_type": "stream",
     "text": [
      "100%|██████████| 1000/1000 [00:38<00:00, 25.72it/s]\n"
     ]
    },
    {
     "data": {
      "image/png": "[encoded data removed]",
      "text/plain": [
       "<Figure size 640x480 with 1 Axes>"
      ]
     },
     "metadata": {},
     "output_type": "display_data"
    },
    {
     "name": "stderr",
     "output_type": "stream",
     "text": [
      "100%|██████████| 1000/1000 [00:39<00:00, 25.44it/s]\n"
     ]
    },
    {
     "data": {
      "image/png": "[encoded data removed]",
      "text/plain": [
       "<Figure size 640x480 with 1 Axes>"
      ]
     },
     "metadata": {},
     "output_type": "display_data"
    },
    {
     "name": "stderr",
     "output_type": "stream",
     "text": [
      "100%|██████████| 1000/1000 [00:38<00:00, 25.68it/s]\n"
     ]
    },
    {
     "data": {
      "image/png": "[encoded data removed]",
      "text/plain": [
       "<Figure size 640x480 with 1 Axes>"
      ]
     },
     "metadata": {},
     "output_type": "display_data"
    },
    {
     "name": "stderr",
     "output_type": "stream",
     "text": [
      "100%|██████████| 1000/1000 [00:38<00:00, 25.73it/s]\n"
     ]
    }
   ],
   "source": [
    "###.........Heat simulation with highest fill factor.........###\n",
    "#Make mesh grid\n",
    "resolution_array = [100,75,50,25,0]\n",
    "folder_name = []\n",
    "temp_array = []\n",
    "startingTemperature = 103.15 # Round about -170C°\n",
    "gamma = 0.05\n",
    "timeStep = 0.000158 \n",
    "boundaryTemp = 103.15\n",
    "time_step_number = 1000\n",
    "\n",
    "\n",
    "#Add heat\n",
    "value_to_add = 492.2\n",
    "\n",
    "for i in range(len(resolution_array)):\n",
    "\n",
    "        resolution = 100\n",
    "\n",
    "        # Konfiguriere das Gitter\n",
    "        x1 = np.full(resolution, startingTemperature)\n",
    "        y1 = np.full(50, startingTemperature)\n",
    "\n",
    "        x2 = np.full(resolution, gamma)\n",
    "        y2 = np.full(50, gamma)\n",
    "\n",
    "        gridX, gridY = np.meshgrid(x1, y1)\n",
    "        gridX2, gridY2 = np.meshgrid(x2, y2)\n",
    "\n",
    "        fullGridX = np.dstack([gridX, gridX2])\n",
    "        fullGridY = np.dstack([gridY, gridY2])\n",
    "\n",
    "        # Füge value_to_add den ersten beiden Zeilen der ersten Dimension von fullGridX hinzu\n",
    "        fullGridX[:, :resolution_array[i], 0] += value_to_add\n",
    "\n",
    "        # Erstelle eine Maske für Werte größer als 0.5\n",
    "\n",
    "        mask = np.zeros((50, resolution), dtype=np.uint8)\n",
    "        mask[:, :resolution_array[i]] = 1\n",
    "\n",
    "        # Plotte die erstellte Maske\n",
    "        white_image = Image.new('L', (resolution, 50), 255)\n",
    "        white_image = white_image * mask\n",
    "        plt.imshow(white_image, cmap='gray')\n",
    "        plt.show()\n",
    "\n",
    "        \n",
    "        #Run simulation\n",
    "        frames = [fullGridX[:,:,0].copy()]\n",
    "\n",
    "        average_temperature= []\n",
    "        temp = []\n",
    "        for t in tqdm(range(0,time_step_number)):\n",
    "                # Calculate the average temperature within the circle and append to the list\n",
    "                average_temp = calculateAverageTemperature(fullGridX)\n",
    "                temp.append(average_temp)\n",
    "                \n",
    "                # Calculate the heat\n",
    "                fullGridX = heatTransfer(fullGridX.copy())\n",
    "                frames.append(fullGridX[:,:,0].copy())\n",
    "        temp_array.append(temp)\n",
    "\n",
    "\n",
    "        #Make Gif, saves as \"simulation.gif\"\n",
    "        #makeGif_single(frames,timeStep,103.15,500, folder_name[i])"
   ]
  },
  {
   "cell_type": "code",
   "execution_count": 14,
   "metadata": {},
   "outputs": [
    {
     "name": "stdout",
     "output_type": "stream",
     "text": [
      "5\n"
     ]
    }
   ],
   "source": [
    "file_path = 'heating_array.txt'\n",
    "\n",
    "np.savetxt(file_path,temp_array, delimiter=',', newline='\\n', fmt='%f')\n",
    "\n",
    "loaded_array= np.loadtxt(file_path, delimiter=',')\n",
    "print(len(loaded_array))"
   ]
  },
  {
   "cell_type": "code",
   "execution_count": 15,
   "metadata": {},
   "outputs": [
    {
     "name": "stdout",
     "output_type": "stream",
     "text": [
      "1000\n"
     ]
    }
   ],
   "source": [
    "file_path = 'heating_array.txt'\n",
    "\n",
    "loaded_array= np.loadtxt(file_path, delimiter=',')\n",
    "print(len(loaded_array[1]))\n",
    "\n",
    "# Define the colors for the colormap: red (1, 0, 0), purple (0.5, 0, 0.5), blue (0, 0, 1)\n",
    "colors = [(0, 0, 0.8), (0.7, 0.7, 0), (0.8, 0, 0)]\n",
    "#colors = [(0, 0, 0.8), (0.5, 0, 0.5), (0.8, 0, 0)]\n",
    "\n",
    "# Number of colors in the colormap\n",
    "n_colors = 20\n",
    "\n",
    "# Create the colormap\n",
    "blue_yellow_red_cmap = LinearSegmentedColormap.from_list(\"red_purpel_blue\", colors, N=n_colors)\n",
    "\n",
    "# Create an array of colors from red to blue via purple\n",
    "color_array = blue_yellow_red_cmap(np.linspace(0, 1, n_colors))"
   ]
  },
  {
   "cell_type": "code",
   "execution_count": 16,
   "metadata": {},
   "outputs": [
    {
     "data": {
      "text/plain": [
       "1000"
      ]
     },
     "execution_count": 16,
     "metadata": {},
     "output_type": "execute_result"
    }
   ],
   "source": [
    "timeStep = 0.000158\n",
    "specific_point = timeStep*999.5\n",
    "step_size = timeStep\n",
    "time_step_array =  np.arange(0, specific_point, step_size)\n",
    "len(time_step_array)"
   ]
  },
  {
   "cell_type": "code",
   "execution_count": 17,
   "metadata": {},
   "outputs": [
    {
     "name": "stdout",
     "output_type": "stream",
     "text": [
      "0\n",
      "1\n",
      "2\n",
      "3\n",
      "4\n"
     ]
    },
    {
     "data": {
      "image/png": "[encoded data removed]",
      "text/plain": [
       "<Figure size 640x480 with 1 Axes>"
      ]
     },
     "metadata": {},
     "output_type": "display_data"
    }
   ],
   "source": [
    "# Plot the Result\n",
    "plt.minorticks_on\n",
    "plt.xlabel(r'Time in x100 ns', fontsize=\"14\")\n",
    "plt.ylabel(r\"Temperature in K\", fontsize=\"14\")\n",
    "label_arr = [\"10\",\"20\",\"30\",\"40\",\"50\"]\n",
    "\n",
    "for i in range(len(loaded_array)):\n",
    "    print(i)\n",
    "    plt.plot(time_step_array, loaded_array[i], color= color_array[i])\n",
    "\n",
    "# Show line where the CDW Spots arge gone\n",
    "plt.axhline(y=103.15, color='black', linestyle='--', label='origin temperature')\n",
    "plt.ylim(70, 600)\n",
    "plt.legend(label_arr, loc=\"upper right\", bbox_to_anchor = (1.0,1.0), ncol=6)\n",
    "plt.tight_layout()\n",
    "plt.show()"
   ]
  }
 ],
 "metadata": {
  "kernelspec": {
   "display_name": "Python 3",
   "language": "python",
   "name": "python3"
  },
  "language_info": {
   "codemirror_mode": {
    "name": "ipython",
    "version": 3
   },
   "file_extension": ".py",
   "mimetype": "text/x-python",
   "name": "python",
   "nbconvert_exporter": "python",
   "pygments_lexer": "ipython3",
   "version": "3.8.10"
  }
 },
 "nbformat": 4,
 "nbformat_minor": 2
}
