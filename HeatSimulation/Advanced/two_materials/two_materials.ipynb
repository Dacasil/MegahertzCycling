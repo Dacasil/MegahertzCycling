{
 "cells": [
  {
   "cell_type": "code",
   "execution_count": 1,
   "metadata": {},
   "outputs": [],
   "source": [
    "import numpy as np\n",
    "import matplotlib.pyplot as plt\n",
    "import imageio.v2 as imageio\n",
    "from tqdm import tqdm\n",
    "import os\n",
    "from PIL import Image"
   ]
  },
  {
   "cell_type": "code",
   "execution_count": 2,
   "metadata": {},
   "outputs": [],
   "source": [
    "def getNeighborsTemperature(grid, point, boundaryTemp):\n",
    "    neighbors = []\n",
    "    for i in range(-1, 2):\n",
    "        try:\n",
    "            if abs(i) != 0:\n",
    "                neighbors.append(grid[point + i][0])\n",
    "        except IndexError:\n",
    "            neighbors.append(boundaryTemp)\n",
    "\n",
    "    return neighbors\n",
    "\n",
    "\n",
    "def getNeighborsTemperature_left_material_boundary(grid, point, k):\n",
    "    neighbors = []\n",
    "    for i in range(-1, 2):\n",
    "        # left neighbor: same material\n",
    "        if i == -1:\n",
    "            neighbors.append(grid[point + i][0])\n",
    "        # right neighbor: new material\n",
    "        elif i == 1:\n",
    "            temperature = ((k - 1) / (k + 1)) * grid[point][0] + (2 / (k + 1)) * grid[point + i][0]\n",
    "            neighbors.append(temperature)\n",
    "\n",
    "    return neighbors\n",
    "\n",
    "\n",
    "def getNeighborsTemperature_right_material_boundary(grid, point, k):\n",
    "    neighbors = []\n",
    "    for i in range(-1, 2):\n",
    "        # left neighbor: new material\n",
    "        if i == -1:\n",
    "            temperature = (2 * k / (k + 1)) * grid[point - 1][0] - ((k - 1) / (k + 1)) * grid[point][0]\n",
    "            neighbors.append(temperature)\n",
    "        \n",
    "        # right neighbor: same material\n",
    "        elif i == 1:\n",
    "            neighbors.append(grid[point + i][0])\n",
    "\n",
    "    return neighbors\n",
    "\n",
    "\n",
    "def calculateHeat(cellTemp, neighborTemps, gamma):\n",
    "    cellTemp = cellTemp + gamma*((neighborTemps[0] -2*cellTemp + neighborTemps[1]))\n",
    "    return np.float64(cellTemp)\n",
    "\n",
    "\n",
    "def heatTransfer(grid, boundaryTemp, material_index,k):\n",
    "    #print(\"LEERZEICHEN\")\n",
    "    for i in range(0,len(grid)):\n",
    "        \n",
    "        # Material 1\n",
    "        if abs(i-1) < material_index:\n",
    "            neighbors = getNeighborsTemperature(grid,i, boundaryTemp)\n",
    "            grid[i][0] = calculateHeat(grid[i][0], neighbors, grid[i][1])\n",
    "            #print(grid[:,:,1][i])\n",
    "        \n",
    "        # Boundary of Material 1\n",
    "        elif abs(i) == material_index:\n",
    "            neighbors = getNeighborsTemperature_left_material_boundary(grid,i, k)\n",
    "            grid[i][0] = calculateHeat(grid[i][0], neighbors, grid[i][1])\n",
    "        \n",
    "        # Boundary of Material 2\n",
    "        elif abs(i) == (material_index + 1):\n",
    "            neighbors = getNeighborsTemperature_right_material_boundary(grid,i,k)\n",
    "            grid[i][0] = calculateHeat(grid[i][0], neighbors, grid[i][1])\n",
    "        \n",
    "        # Material 2\n",
    "        elif abs(i)>(material_index+1):\n",
    "            neighbors = getNeighborsTemperature(grid,i, boundaryTemp)\n",
    "            grid[i][0] = calculateHeat(grid[i][0], neighbors, grid[i][1])\n",
    "            \n",
    "    return grid\n",
    "\n",
    "\n",
    "def calculateAverageTemperatureWithinCircle(grid, resolution1):\n",
    "    # Extract the temperature values from the grid\n",
    "    temperatures = []\n",
    "    for i in range(resolution1):\n",
    "        temperatures.append(grid[i][0])\n",
    "\n",
    "    # Calculate the average temperature within the circle\n",
    "    average_temperature = np.sum(temperatures)/resolution1\n",
    "    \n",
    "    return average_temperature\n",
    "\n",
    "\n",
    "\n",
    "def makeGif(frames,name,timeStep,minTemp,maxTemp, frames_name):\n",
    "        counter=0\n",
    "        y_aspect = 1\n",
    "        images = []\n",
    "        \n",
    "        for i in tqdm(range(0,len(frames))):\n",
    "                x_values = np.arange(0, 37)\n",
    "                data = np.array([frames[i]])\n",
    "                plt.figure()\n",
    "                plt.title(f\"Temperature at t = {counter*timeStep:.3f} unit time\")\n",
    "                plt.imshow(data, extent=[min(x_values)-0.5, max(x_values)+0.5, 0, 1], aspect='auto', cmap=\"inferno\", vmin=minTemp, vmax=maxTemp)\n",
    "                plt.gca().set_aspect(y_aspect, adjustable='box')\n",
    "                plt.colorbar(label='Temperature')\n",
    "                plt.xlabel('Nodes')\n",
    "                plt.yticks([])\n",
    "                \n",
    "                plt.savefig(\"frames/\" + frames_name + \"/\"+str(counter)+ '_'+ frames_name + \".png\")\n",
    "                images.append(imageio.imread(\"frames/\" + frames_name + \"/\"+str(counter)+ '_'+ frames_name + \".png\"))\n",
    "                counter += 1\n",
    "                plt.close()\n",
    "\n",
    "        imageio.mimsave(\"gifs/\"+name+ \".gif\", images)\n",
    "        \n",
    "def makeGif_new(frames,name,timeStep,frames_name):\n",
    "        counter=0\n",
    "        images = []\n",
    "        \n",
    "        for i in tqdm(range(0,len(frames))):\n",
    "                x_values = np.arange(0, 370)\n",
    "                plt.figure()\n",
    "                plt.title(f\"Temperature at t = {counter*timeStep:.3f} unit time\")\n",
    "                plt.plot(x_values, frames[i])\n",
    "                \n",
    "                plt.xlabel('Nodes')\n",
    "                plt.ylabel(\"Temperature in K\")\n",
    "                plt.yticks([])\n",
    "                \n",
    "                plt.savefig(\"frames/\" + frames_name + \"/\"+str(counter)+ '_'+ frames_name + \".png\")\n",
    "                images.append(imageio.imread(\"frames/\" + frames_name + \"/\"+str(counter)+ '_'+ frames_name + \".png\"))\n",
    "                counter += 1\n",
    "                plt.close()\n",
    "\n",
    "        imageio.mimsave(\"gifs/\"+name+ \".gif\", images)"
   ]
  },
  {
   "cell_type": "code",
   "execution_count": 13,
   "metadata": {},
   "outputs": [
    {
     "name": "stderr",
     "output_type": "stream",
     "text": [
      " 10%|█         | 1010769/10000000 [25:19<3:45:15, 665.09it/s]\n"
     ]
    },
    {
     "ename": "KeyboardInterrupt",
     "evalue": "",
     "output_type": "error",
     "traceback": [
      "\u001b[1;31m---------------------------------------------------------------------------\u001b[0m",
      "\u001b[1;31mKeyboardInterrupt\u001b[0m                         Traceback (most recent call last)",
      "\u001b[1;32mp:\\Heat Transfer\\two_materials\\two_materials.ipynb Cell 3\u001b[0m line \u001b[0;36m4\n\u001b[0;32m     <a href='vscode-notebook-cell:/p%3A/Heat%20Transfer/two_materials/two_materials.ipynb#W2sZmlsZQ%3D%3D?line=40'>41</a>\u001b[0m frames \u001b[39m=\u001b[39m []\n\u001b[0;32m     <a href='vscode-notebook-cell:/p%3A/Heat%20Transfer/two_materials/two_materials.ipynb#W2sZmlsZQ%3D%3D?line=41'>42</a>\u001b[0m average_temperatures_in_circle \u001b[39m=\u001b[39m []\n\u001b[1;32m---> <a href='vscode-notebook-cell:/p%3A/Heat%20Transfer/two_materials/two_materials.ipynb#W2sZmlsZQ%3D%3D?line=42'>43</a>\u001b[0m \u001b[39mfor\u001b[39;00m t \u001b[39min\u001b[39;00m tqdm(\u001b[39mrange\u001b[39m(number_of_steps)):\n\u001b[0;32m     <a href='vscode-notebook-cell:/p%3A/Heat%20Transfer/two_materials/two_materials.ipynb#W2sZmlsZQ%3D%3D?line=43'>44</a>\u001b[0m     frames_small \u001b[39m=\u001b[39m []\n\u001b[0;32m     <a href='vscode-notebook-cell:/p%3A/Heat%20Transfer/two_materials/two_materials.ipynb#W2sZmlsZQ%3D%3D?line=44'>45</a>\u001b[0m     \u001b[39m# Calculate the average temperature within the circle and append to the list\u001b[39;00m\n",
      "File \u001b[1;32m~\\AppData\\Roaming\\Python\\Python38\\site-packages\\tqdm\\std.py:1192\u001b[0m, in \u001b[0;36mtqdm.__iter__\u001b[1;34m(self)\u001b[0m\n\u001b[0;32m   1190\u001b[0m dt \u001b[39m=\u001b[39m cur_t \u001b[39m-\u001b[39m last_print_t\n\u001b[0;32m   1191\u001b[0m \u001b[39mif\u001b[39;00m dt \u001b[39m>\u001b[39m\u001b[39m=\u001b[39m mininterval \u001b[39mand\u001b[39;00m cur_t \u001b[39m>\u001b[39m\u001b[39m=\u001b[39m min_start_t:\n\u001b[1;32m-> 1192\u001b[0m     \u001b[39mself\u001b[39;49m\u001b[39m.\u001b[39;49mupdate(n \u001b[39m-\u001b[39;49m last_print_n)\n\u001b[0;32m   1193\u001b[0m     last_print_n \u001b[39m=\u001b[39m \u001b[39mself\u001b[39m\u001b[39m.\u001b[39mlast_print_n\n\u001b[0;32m   1194\u001b[0m     last_print_t \u001b[39m=\u001b[39m \u001b[39mself\u001b[39m\u001b[39m.\u001b[39mlast_print_t\n",
      "File \u001b[1;32m~\\AppData\\Roaming\\Python\\Python38\\site-packages\\tqdm\\std.py:1243\u001b[0m, in \u001b[0;36mtqdm.update\u001b[1;34m(self, n)\u001b[0m\n\u001b[0;32m   1241\u001b[0m     \u001b[39mself\u001b[39m\u001b[39m.\u001b[39m_ema_dn(dn)\n\u001b[0;32m   1242\u001b[0m     \u001b[39mself\u001b[39m\u001b[39m.\u001b[39m_ema_dt(dt)\n\u001b[1;32m-> 1243\u001b[0m \u001b[39mself\u001b[39;49m\u001b[39m.\u001b[39;49mrefresh(lock_args\u001b[39m=\u001b[39;49m\u001b[39mself\u001b[39;49m\u001b[39m.\u001b[39;49mlock_args)\n\u001b[0;32m   1244\u001b[0m \u001b[39mif\u001b[39;00m \u001b[39mself\u001b[39m\u001b[39m.\u001b[39mdynamic_miniters:\n\u001b[0;32m   1245\u001b[0m     \u001b[39m# If no `miniters` was specified, adjust automatically to the\u001b[39;00m\n\u001b[0;32m   1246\u001b[0m     \u001b[39m# maximum iteration rate seen so far between two prints.\u001b[39;00m\n\u001b[0;32m   1247\u001b[0m     \u001b[39m# e.g.: After running `tqdm.update(5)`, subsequent\u001b[39;00m\n\u001b[0;32m   1248\u001b[0m     \u001b[39m# calls to `tqdm.update()` will only cause an update after\u001b[39;00m\n\u001b[0;32m   1249\u001b[0m     \u001b[39m# at least 5 more iterations.\u001b[39;00m\n\u001b[0;32m   1250\u001b[0m     \u001b[39mif\u001b[39;00m \u001b[39mself\u001b[39m\u001b[39m.\u001b[39mmaxinterval \u001b[39mand\u001b[39;00m dt \u001b[39m>\u001b[39m\u001b[39m=\u001b[39m \u001b[39mself\u001b[39m\u001b[39m.\u001b[39mmaxinterval:\n",
      "File \u001b[1;32m~\\AppData\\Roaming\\Python\\Python38\\site-packages\\tqdm\\std.py:1348\u001b[0m, in \u001b[0;36mtqdm.refresh\u001b[1;34m(self, nolock, lock_args)\u001b[0m\n\u001b[0;32m   1346\u001b[0m     \u001b[39melse\u001b[39;00m:\n\u001b[0;32m   1347\u001b[0m         \u001b[39mself\u001b[39m\u001b[39m.\u001b[39m_lock\u001b[39m.\u001b[39macquire()\n\u001b[1;32m-> 1348\u001b[0m \u001b[39mself\u001b[39;49m\u001b[39m.\u001b[39;49mdisplay()\n\u001b[0;32m   1349\u001b[0m \u001b[39mif\u001b[39;00m \u001b[39mnot\u001b[39;00m nolock:\n\u001b[0;32m   1350\u001b[0m     \u001b[39mself\u001b[39m\u001b[39m.\u001b[39m_lock\u001b[39m.\u001b[39mrelease()\n",
      "File \u001b[1;32m~\\AppData\\Roaming\\Python\\Python38\\site-packages\\tqdm\\std.py:1496\u001b[0m, in \u001b[0;36mtqdm.display\u001b[1;34m(self, msg, pos)\u001b[0m\n\u001b[0;32m   1494\u001b[0m \u001b[39mif\u001b[39;00m pos:\n\u001b[0;32m   1495\u001b[0m     \u001b[39mself\u001b[39m\u001b[39m.\u001b[39mmoveto(pos)\n\u001b[1;32m-> 1496\u001b[0m \u001b[39mself\u001b[39;49m\u001b[39m.\u001b[39;49msp(\u001b[39mself\u001b[39;49m\u001b[39m.\u001b[39;49m\u001b[39m__str__\u001b[39;49m() \u001b[39mif\u001b[39;49;00m msg \u001b[39mis\u001b[39;49;00m \u001b[39mNone\u001b[39;49;00m \u001b[39melse\u001b[39;49;00m msg)\n\u001b[0;32m   1497\u001b[0m \u001b[39mif\u001b[39;00m pos:\n\u001b[0;32m   1498\u001b[0m     \u001b[39mself\u001b[39m\u001b[39m.\u001b[39mmoveto(\u001b[39m-\u001b[39mpos)\n",
      "File \u001b[1;32m~\\AppData\\Roaming\\Python\\Python38\\site-packages\\tqdm\\std.py:462\u001b[0m, in \u001b[0;36mtqdm.status_printer.<locals>.print_status\u001b[1;34m(s)\u001b[0m\n\u001b[0;32m    460\u001b[0m \u001b[39mdef\u001b[39;00m \u001b[39mprint_status\u001b[39m(s):\n\u001b[0;32m    461\u001b[0m     len_s \u001b[39m=\u001b[39m disp_len(s)\n\u001b[1;32m--> 462\u001b[0m     fp_write(\u001b[39m'\u001b[39;49m\u001b[39m\\r\u001b[39;49;00m\u001b[39m'\u001b[39;49m \u001b[39m+\u001b[39;49m s \u001b[39m+\u001b[39;49m (\u001b[39m'\u001b[39;49m\u001b[39m \u001b[39;49m\u001b[39m'\u001b[39;49m \u001b[39m*\u001b[39;49m \u001b[39mmax\u001b[39;49m(last_len[\u001b[39m0\u001b[39;49m] \u001b[39m-\u001b[39;49m len_s, \u001b[39m0\u001b[39;49m)))\n\u001b[0;32m    463\u001b[0m     last_len[\u001b[39m0\u001b[39m] \u001b[39m=\u001b[39m len_s\n",
      "File \u001b[1;32m~\\AppData\\Roaming\\Python\\Python38\\site-packages\\tqdm\\std.py:456\u001b[0m, in \u001b[0;36mtqdm.status_printer.<locals>.fp_write\u001b[1;34m(s)\u001b[0m\n\u001b[0;32m    454\u001b[0m \u001b[39mdef\u001b[39;00m \u001b[39mfp_write\u001b[39m(s):\n\u001b[0;32m    455\u001b[0m     fp\u001b[39m.\u001b[39mwrite(\u001b[39mstr\u001b[39m(s))\n\u001b[1;32m--> 456\u001b[0m     fp_flush()\n",
      "File \u001b[1;32m~\\AppData\\Roaming\\Python\\Python38\\site-packages\\tqdm\\utils.py:195\u001b[0m, in \u001b[0;36mDisableOnWriteError.disable_on_exception.<locals>.inner\u001b[1;34m(*args, **kwargs)\u001b[0m\n\u001b[0;32m    193\u001b[0m \u001b[39mdef\u001b[39;00m \u001b[39minner\u001b[39m(\u001b[39m*\u001b[39margs, \u001b[39m*\u001b[39m\u001b[39m*\u001b[39mkwargs):\n\u001b[0;32m    194\u001b[0m     \u001b[39mtry\u001b[39;00m:\n\u001b[1;32m--> 195\u001b[0m         \u001b[39mreturn\u001b[39;00m func(\u001b[39m*\u001b[39;49margs, \u001b[39m*\u001b[39;49m\u001b[39m*\u001b[39;49mkwargs)\n\u001b[0;32m    196\u001b[0m     \u001b[39mexcept\u001b[39;00m \u001b[39mOSError\u001b[39;00m \u001b[39mas\u001b[39;00m e:\n\u001b[0;32m    197\u001b[0m         \u001b[39mif\u001b[39;00m e\u001b[39m.\u001b[39merrno \u001b[39m!=\u001b[39m \u001b[39m5\u001b[39m:\n",
      "File \u001b[1;32m~\\AppData\\Roaming\\Python\\Python38\\site-packages\\ipykernel\\iostream.py:580\u001b[0m, in \u001b[0;36mOutStream.flush\u001b[1;34m(self)\u001b[0m\n\u001b[0;32m    578\u001b[0m     \u001b[39mself\u001b[39m\u001b[39m.\u001b[39mpub_thread\u001b[39m.\u001b[39mschedule(evt\u001b[39m.\u001b[39mset)\n\u001b[0;32m    579\u001b[0m     \u001b[39m# and give a timeout to avoid\u001b[39;00m\n\u001b[1;32m--> 580\u001b[0m     \u001b[39mif\u001b[39;00m \u001b[39mnot\u001b[39;00m evt\u001b[39m.\u001b[39;49mwait(\u001b[39mself\u001b[39;49m\u001b[39m.\u001b[39;49mflush_timeout):\n\u001b[0;32m    581\u001b[0m         \u001b[39m# write directly to __stderr__ instead of warning because\u001b[39;00m\n\u001b[0;32m    582\u001b[0m         \u001b[39m# if this is happening sys.stderr may be the problem.\u001b[39;00m\n\u001b[0;32m    583\u001b[0m         \u001b[39mprint\u001b[39m(\u001b[39m\"\u001b[39m\u001b[39mIOStream.flush timed out\u001b[39m\u001b[39m\"\u001b[39m, file\u001b[39m=\u001b[39msys\u001b[39m.\u001b[39m__stderr__)\n\u001b[0;32m    584\u001b[0m \u001b[39melse\u001b[39;00m:\n",
      "File \u001b[1;32mc:\\Program Files\\Python38\\lib\\threading.py:558\u001b[0m, in \u001b[0;36mEvent.wait\u001b[1;34m(self, timeout)\u001b[0m\n\u001b[0;32m    556\u001b[0m signaled \u001b[39m=\u001b[39m \u001b[39mself\u001b[39m\u001b[39m.\u001b[39m_flag\n\u001b[0;32m    557\u001b[0m \u001b[39mif\u001b[39;00m \u001b[39mnot\u001b[39;00m signaled:\n\u001b[1;32m--> 558\u001b[0m     signaled \u001b[39m=\u001b[39m \u001b[39mself\u001b[39;49m\u001b[39m.\u001b[39;49m_cond\u001b[39m.\u001b[39;49mwait(timeout)\n\u001b[0;32m    559\u001b[0m \u001b[39mreturn\u001b[39;00m signaled\n",
      "File \u001b[1;32mc:\\Program Files\\Python38\\lib\\threading.py:306\u001b[0m, in \u001b[0;36mCondition.wait\u001b[1;34m(self, timeout)\u001b[0m\n\u001b[0;32m    304\u001b[0m \u001b[39melse\u001b[39;00m:\n\u001b[0;32m    305\u001b[0m     \u001b[39mif\u001b[39;00m timeout \u001b[39m>\u001b[39m \u001b[39m0\u001b[39m:\n\u001b[1;32m--> 306\u001b[0m         gotit \u001b[39m=\u001b[39m waiter\u001b[39m.\u001b[39;49macquire(\u001b[39mTrue\u001b[39;49;00m, timeout)\n\u001b[0;32m    307\u001b[0m     \u001b[39melse\u001b[39;00m:\n\u001b[0;32m    308\u001b[0m         gotit \u001b[39m=\u001b[39m waiter\u001b[39m.\u001b[39macquire(\u001b[39mFalse\u001b[39;00m)\n",
      "\u001b[1;31mKeyboardInterrupt\u001b[0m: "
     ]
    }
   ],
   "source": [
    "# Arrays to store data\n",
    "timeStep_array = []\n",
    "average_temperatures_in_circle_TaTe2 = []\n",
    "temp_array = []\n",
    "frames_name = \"gold_scan\"\n",
    "gif_name = \"gold_scan\"\n",
    "frames = []\n",
    "\n",
    "# Make 1D grid\n",
    "resolution1 = 70\n",
    "resolution2 = 300\n",
    "resolution = resolution1 + resolution2\n",
    "number_of_steps = 00000\n",
    "\n",
    "# Constants\n",
    "startingTemperature = 103.15  # Round about -170C°\n",
    "boundaryTemp = 103.15\n",
    "gamma1 = 0.0021\n",
    "gamma2 = 0.25\n",
    "k = 0.00441\n",
    "material_index = 7\n",
    "timeStep = 1.96 * 10**(-8)\n",
    "\n",
    "####...Simulation...###\n",
    "value_to_add = np.float64(492.2)\n",
    "\n",
    "x1 = np.full(resolution, startingTemperature)\n",
    "\n",
    "x2_material1 = np.full(resolution1, gamma1)\n",
    "x2_material2 = np.full(resolution2, gamma2)\n",
    "\n",
    "x2 = np.concatenate([x2_material1, x2_material2], axis=0)\n",
    "\n",
    "gridX = np.column_stack((x1, x2))  # Use column_stack to create a 2D array\n",
    "\n",
    "fullGridX = gridX.copy()\n",
    "\n",
    "# Aktualisiere die Werte im Gitter entsprechend der Maske\n",
    "fullGridX[:resolution1, 0] += value_to_add\n",
    "\n",
    "frames = []\n",
    "average_temperatures_in_circle = []\n",
    "for t in tqdm(range(number_of_steps)):\n",
    "    frames_small = []\n",
    "    # Calculate the average temperature within the circle and append to the list\n",
    "    average_temp = calculateAverageTemperatureWithinCircle(fullGridX, resolution1)\n",
    "    temp_array.append(average_temp)\n",
    "    \n",
    "    fullGridX = heatTransfer(fullGridX.copy(), boundaryTemp, material_index, k)\n",
    "    \n",
    "    for i in range(len(fullGridX)):\n",
    "        frames_small.append(fullGridX[i][0])\n",
    "    frames.append(frames_small)\n",
    "\n",
    "#Make Gif, saves as \"simulation.gif\"\n",
    "#makeGif(frames,gif_name,timeStep,103.15,500, frames_name)"
   ]
  },
  {
   "cell_type": "code",
   "execution_count": null,
   "metadata": {},
   "outputs": [],
   "source": [
    "makeGif_new(frames,gif_name,timeStep, frames_name)"
   ]
  },
  {
   "cell_type": "code",
   "execution_count": 7,
   "metadata": {},
   "outputs": [
    {
     "name": "stdout",
     "output_type": "stream",
     "text": [
      "500000\n"
     ]
    }
   ],
   "source": [
    "file_path = 'heating_array.txt'\n",
    "\n",
    "np.savetxt(file_path,temp_array, delimiter=',', newline='\\n', fmt='%f')\n",
    "\n",
    "loaded_array= np.loadtxt(file_path, delimiter=',')\n",
    "print(len(loaded_array))"
   ]
  },
  {
   "cell_type": "code",
   "execution_count": 10,
   "metadata": {},
   "outputs": [
    {
     "name": "stdout",
     "output_type": "stream",
     "text": [
      "500000\n"
     ]
    }
   ],
   "source": [
    "specific_point = timeStep*number_of_steps\n",
    "step_size = timeStep\n",
    "time_step_array =  np.arange(0, specific_point, step_size)\n",
    "print(len(time_step_array))"
   ]
  },
  {
   "cell_type": "code",
   "execution_count": 11,
   "metadata": {},
   "outputs": [
    {
     "data": {
      "image/png": "[encoded data removed]",
      "text/plain": [
       "<Figure size 640x480 with 1 Axes>"
      ]
     },
     "metadata": {},
     "output_type": "display_data"
    }
   ],
   "source": [
    "#Plot the Result\n",
    "plt.minorticks_on\n",
    "plt.xlabel(r'Time in x100 ns', fontsize=\"14\")\n",
    "plt.ylabel(r\"Temperature in K\", fontsize=\"14\")\n",
    "\n",
    "# Diameter\n",
    "\n",
    "plt.plot(time_step_array, loaded_array, color= \"blue\", label = \"two materials\" )\n",
    "plt.legend(loc=\"upper right\")\n",
    "\n",
    "# Show line where the CDW Spots arge gone\n",
    "plt.axhline(y=103.15, color='black', linestyle='--', label='origin temperature')\n",
    "plt.ylim(70, 600)\n",
    "#plt.xlim(0.0001,0.0027)\n",
    "plt.legend(loc=\"upper right\")\n",
    "plt.tight_layout()\n",
    "plt.show()"
   ]
  }
 ],
 "metadata": {
  "kernelspec": {
   "display_name": "base",
   "language": "python",
   "name": "python3"
  },
  "language_info": {
   "codemirror_mode": {
    "name": "ipython",
    "version": 3
   },
   "file_extension": ".py",
   "mimetype": "text/x-python",
   "name": "python",
   "nbconvert_exporter": "python",
   "pygments_lexer": "ipython3",
   "version": "3.8.10"
  }
 },
 "nbformat": 4,
 "nbformat_minor": 2
}
